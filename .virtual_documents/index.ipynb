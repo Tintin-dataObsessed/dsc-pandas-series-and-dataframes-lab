


# Import the required libraries
import pandas as pd
import matplotlib.pyplot as plt
%matplotlib inline


# Import the file 'turnstile_180901.txt'
df = pd.read_csv('turnstile_180901.txt')

# Print the number of rows ans columns in df
print(df.shape)

# Print the first five rows of df
df.head()





# We can check and see what the columns look like with this code:
df.columns


# Rename all the columns to lower case
text = df.columns
df.lower(text)


# Now let's check and make sure that worked
df.columns





# Change the index to 'linename'






# Reset the index






# Add a new 'num_lines' column






# Before we start cleaning, let's look at what we've got

df.columns


def clean(col_name):
    # Clean the column name in any way you want to. Hint: think back to str methods 
    cleaned = None
    return cleaned


# Use the above function to clean the column names



# Check to ensure the column names were cleaned
df.columns





# Convert the data type of the 'date' column to a date


# Add a new column 'day_of_week' that represents the day of the week 



# Group the data by day of week and plot the sum of the numeric columns
grouped = df.groupby('day_of_week').sum(numeric_only = True)
grouped.plot(kind='barh')
plt.show()





# Reset the index of grouped
grouped = None

# Print the first five rows of grouped






# Use this dictionary to create a new column 
weekend_map = {0:False, 1:False, 2:False, 3:False, 4:False, 5:True, 6:True}

# Add a new column 'is_weekend' that maps the 'day_of_week' column using weekend_map
grouped['is_weekend'] = grouped['day_of_week'].map(weekend_map)


# Group the data by weekend/weekday and plot the sum of the numeric columns
wkend = grouped.groupby('is_weekend').sum(numeric_only = True)
wkend[['entries', 'exits']].plot(kind='barh')
plt.show()





# Remove the 'c/a' and 'scp' columns
df = None
df.head(2)





# Your answer here 



